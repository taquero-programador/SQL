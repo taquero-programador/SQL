{
 "cells": [
  {
   "cell_type": "markdown",
   "id": "eed3c48a",
   "metadata": {},
   "source": [
    "## Dannys Dinner - Case study #1"
   ]
  },
  {
   "cell_type": "code",
   "execution_count": 1,
   "id": "1d4b664a",
   "metadata": {},
   "outputs": [],
   "source": [
    "import sys"
   ]
  },
  {
   "cell_type": "code",
   "execution_count": 2,
   "id": "4e72a7ec",
   "metadata": {},
   "outputs": [
    {
     "name": "stdout",
     "output_type": "stream",
     "text": [
      "Requirement already satisfied: jupysql in /home/karen/Documentos/javier/git/numpy/venv/lib/python3.9/site-packages (0.10.2)\n",
      "Requirement already satisfied: jinja2 in /home/karen/Documentos/javier/git/numpy/venv/lib/python3.9/site-packages (from jupysql) (3.1.2)\n",
      "Requirement already satisfied: sqlparse in /home/karen/Documentos/javier/git/numpy/venv/lib/python3.9/site-packages (from jupysql) (0.4.4)\n",
      "Requirement already satisfied: sqlglot>=11.3.7 in /home/karen/Documentos/javier/git/numpy/venv/lib/python3.9/site-packages (from jupysql) (19.0.3)\n",
      "Requirement already satisfied: ipython-genutils>=0.1.0 in /home/karen/Documentos/javier/git/numpy/venv/lib/python3.9/site-packages (from jupysql) (0.2.0)\n",
      "Requirement already satisfied: ploomber-core>=0.2.7 in /home/karen/Documentos/javier/git/numpy/venv/lib/python3.9/site-packages (from jupysql) (0.2.15)\n",
      "Requirement already satisfied: jupysql-plugin in /home/karen/Documentos/javier/git/numpy/venv/lib/python3.9/site-packages (from jupysql) (0.2.6)\n",
      "Requirement already satisfied: ipython in /home/karen/Documentos/javier/git/numpy/venv/lib/python3.9/site-packages (from jupysql) (8.5.0)\n",
      "Requirement already satisfied: sqlalchemy in /home/karen/Documentos/javier/git/numpy/venv/lib/python3.9/site-packages (from jupysql) (1.4.50)\n",
      "Requirement already satisfied: prettytable in /home/karen/Documentos/javier/git/numpy/venv/lib/python3.9/site-packages (from jupysql) (3.9.0)\n",
      "Requirement already satisfied: posthog in /home/karen/Documentos/javier/git/numpy/venv/lib/python3.9/site-packages (from ploomber-core>=0.2.7->jupysql) (3.0.2)\n",
      "Requirement already satisfied: click in /home/karen/Documentos/javier/git/numpy/venv/lib/python3.9/site-packages (from ploomber-core>=0.2.7->jupysql) (8.1.7)\n",
      "Requirement already satisfied: pyyaml in /home/karen/Documentos/javier/git/numpy/venv/lib/python3.9/site-packages (from ploomber-core>=0.2.7->jupysql) (6.0.1)\n",
      "Requirement already satisfied: prompt-toolkit<3.1.0,>3.0.1 in /home/karen/Documentos/javier/git/numpy/venv/lib/python3.9/site-packages (from ipython->jupysql) (3.0.31)\n",
      "Requirement already satisfied: pickleshare in /home/karen/Documentos/javier/git/numpy/venv/lib/python3.9/site-packages (from ipython->jupysql) (0.7.5)\n",
      "Requirement already satisfied: jedi>=0.16 in /home/karen/Documentos/javier/git/numpy/venv/lib/python3.9/site-packages (from ipython->jupysql) (0.18.1)\n",
      "Requirement already satisfied: matplotlib-inline in /home/karen/Documentos/javier/git/numpy/venv/lib/python3.9/site-packages (from ipython->jupysql) (0.1.6)\n",
      "Requirement already satisfied: traitlets>=5 in /home/karen/Documentos/javier/git/numpy/venv/lib/python3.9/site-packages (from ipython->jupysql) (5.12.0)\n",
      "Requirement already satisfied: backcall in /home/karen/Documentos/javier/git/numpy/venv/lib/python3.9/site-packages (from ipython->jupysql) (0.2.0)\n",
      "Requirement already satisfied: pygments>=2.4.0 in /home/karen/Documentos/javier/git/numpy/venv/lib/python3.9/site-packages (from ipython->jupysql) (2.13.0)\n",
      "Requirement already satisfied: stack-data in /home/karen/Documentos/javier/git/numpy/venv/lib/python3.9/site-packages (from ipython->jupysql) (0.5.1)\n",
      "Requirement already satisfied: decorator in /home/karen/Documentos/javier/git/numpy/venv/lib/python3.9/site-packages (from ipython->jupysql) (5.1.1)\n",
      "Requirement already satisfied: pexpect>4.3 in /home/karen/Documentos/javier/git/numpy/venv/lib/python3.9/site-packages (from ipython->jupysql) (4.8.0)\n",
      "Requirement already satisfied: parso<0.9.0,>=0.8.0 in /home/karen/Documentos/javier/git/numpy/venv/lib/python3.9/site-packages (from jedi>=0.16->ipython->jupysql) (0.8.3)\n",
      "Requirement already satisfied: ptyprocess>=0.5 in /home/karen/Documentos/javier/git/numpy/venv/lib/python3.9/site-packages (from pexpect>4.3->ipython->jupysql) (0.7.0)\n",
      "Requirement already satisfied: wcwidth in /home/karen/Documentos/javier/git/numpy/venv/lib/python3.9/site-packages (from prompt-toolkit<3.1.0,>3.0.1->ipython->jupysql) (0.2.5)\n",
      "Requirement already satisfied: MarkupSafe>=2.0 in /home/karen/Documentos/javier/git/numpy/venv/lib/python3.9/site-packages (from jinja2->jupysql) (2.1.3)\n",
      "Requirement already satisfied: six>=1.5 in /home/karen/Documentos/javier/git/numpy/venv/lib/python3.9/site-packages (from posthog->ploomber-core>=0.2.7->jupysql) (1.16.0)\n",
      "Requirement already satisfied: backoff>=1.10.0 in /home/karen/Documentos/javier/git/numpy/venv/lib/python3.9/site-packages (from posthog->ploomber-core>=0.2.7->jupysql) (2.2.1)\n",
      "Requirement already satisfied: monotonic>=1.5 in /home/karen/Documentos/javier/git/numpy/venv/lib/python3.9/site-packages (from posthog->ploomber-core>=0.2.7->jupysql) (1.6)\n",
      "Requirement already satisfied: requests<3.0,>=2.7 in /home/karen/Documentos/javier/git/numpy/venv/lib/python3.9/site-packages (from posthog->ploomber-core>=0.2.7->jupysql) (2.31.0)\n",
      "Requirement already satisfied: python-dateutil>2.1 in /home/karen/Documentos/javier/git/numpy/venv/lib/python3.9/site-packages (from posthog->ploomber-core>=0.2.7->jupysql) (2.8.2)\n",
      "Requirement already satisfied: certifi>=2017.4.17 in /home/karen/Documentos/javier/git/numpy/venv/lib/python3.9/site-packages (from requests<3.0,>=2.7->posthog->ploomber-core>=0.2.7->jupysql) (2023.7.22)\n",
      "Requirement already satisfied: urllib3<3,>=1.21.1 in /home/karen/Documentos/javier/git/numpy/venv/lib/python3.9/site-packages (from requests<3.0,>=2.7->posthog->ploomber-core>=0.2.7->jupysql) (2.0.7)\n",
      "Requirement already satisfied: idna<4,>=2.5 in /home/karen/Documentos/javier/git/numpy/venv/lib/python3.9/site-packages (from requests<3.0,>=2.7->posthog->ploomber-core>=0.2.7->jupysql) (3.4)\n",
      "Requirement already satisfied: charset-normalizer<4,>=2 in /home/karen/Documentos/javier/git/numpy/venv/lib/python3.9/site-packages (from requests<3.0,>=2.7->posthog->ploomber-core>=0.2.7->jupysql) (3.3.1)\n",
      "Requirement already satisfied: executing in /home/karen/Documentos/javier/git/numpy/venv/lib/python3.9/site-packages (from stack-data->ipython->jupysql) (1.1.1)\n",
      "Requirement already satisfied: pure-eval in /home/karen/Documentos/javier/git/numpy/venv/lib/python3.9/site-packages (from stack-data->ipython->jupysql) (0.2.2)\n",
      "Requirement already satisfied: asttokens in /home/karen/Documentos/javier/git/numpy/venv/lib/python3.9/site-packages (from stack-data->ipython->jupysql) (2.0.8)\n"
     ]
    }
   ],
   "source": [
    "!{sys.executable} -m pip install jupysql"
   ]
  },
  {
   "cell_type": "code",
   "execution_count": 3,
   "id": "8750ca76",
   "metadata": {},
   "outputs": [
    {
     "data": {
      "text/html": [
       "<span style=\"None\">Connecting to &#x27;sqlite:///dinner.db&#x27;</span>"
      ],
      "text/plain": [
       "Connecting to 'sqlite:///dinner.db'"
      ]
     },
     "metadata": {},
     "output_type": "display_data"
    },
    {
     "data": {
      "text/html": [
       "<span style=\"None\">displaylimit: Value None will be treated as 0 (no limit)</span>"
      ],
      "text/plain": [
       "displaylimit: Value None will be treated as 0 (no limit)"
      ]
     },
     "metadata": {},
     "output_type": "display_data"
    }
   ],
   "source": [
    "%load_ext sql\n",
    "%sql sqlite:///dinner.db\n",
    "%config SqlMagic.displaylimit = None"
   ]
  },
  {
   "cell_type": "markdown",
   "id": "037a8587",
   "metadata": {},
   "source": [
    "### Crear y relacionar tablas"
   ]
  },
  {
   "attachments": {
    "127271130-dca9aedd-4ca9-4ed8-b6ec-1e1920dca4a8.png": {
     "image/png": "[encoded data removed]"
    }
   },
   "cell_type": "markdown",
   "id": "123058fc",
   "metadata": {},
   "source": [
    "### Relación de las tablas\n",
    "\n",
    "![127271130-dca9aedd-4ca9-4ed8-b6ec-1e1920dca4a8.png](attachment:127271130-dca9aedd-4ca9-4ed8-b6ec-1e1920dca4a8.png)"
   ]
  },
  {
   "cell_type": "markdown",
   "id": "c8b5d42a",
   "metadata": {},
   "source": [
    "Crear e insertar datos en tabla `members`:"
   ]
  },
  {
   "cell_type": "code",
   "execution_count": 8,
   "id": "3b73c7b9",
   "metadata": {},
   "outputs": [
    {
     "data": {
      "text/html": [
       "<span style=\"None\">Running query in &#x27;sqlite:///dinner.db&#x27;</span>"
      ],
      "text/plain": [
       "Running query in 'sqlite:///dinner.db'"
      ]
     },
     "metadata": {},
     "output_type": "display_data"
    },
    {
     "data": {
      "text/html": [
       "<table>\n",
       "    <thead>\n",
       "        <tr>\n",
       "        </tr>\n",
       "    </thead>\n",
       "    <tbody>\n",
       "    </tbody>\n",
       "</table>"
      ],
      "text/plain": [
       "++\n",
       "||\n",
       "++\n",
       "++"
      ]
     },
     "execution_count": 8,
     "metadata": {},
     "output_type": "execute_result"
    }
   ],
   "source": [
    "%%sql\n",
    "DROP TABLE IF EXISTS members;\n",
    "\n",
    "CREATE TABLE IF NOT EXISTS members(\n",
    "    customer_id varchar(1) PRIMARY KEY NOT NULL UNIQUE,\n",
    "    join_date DATETIME\n",
    ");\n",
    "\n",
    "--inserta datos\n",
    "INSERT INTO members\n",
    "  (\"customer_id\", \"join_date\")\n",
    "VALUES\n",
    "  ('A', '2021-01-07'),\n",
    "  ('B', '2021-01-09');"
   ]
  },
  {
   "cell_type": "code",
   "execution_count": 9,
   "id": "ecbabd81",
   "metadata": {},
   "outputs": [
    {
     "data": {
      "text/html": [
       "<span style=\"None\">Running query in &#x27;sqlite:///dinner.db&#x27;</span>"
      ],
      "text/plain": [
       "Running query in 'sqlite:///dinner.db'"
      ]
     },
     "metadata": {},
     "output_type": "display_data"
    },
    {
     "data": {
      "text/html": [
       "<table>\n",
       "    <thead>\n",
       "        <tr>\n",
       "            <th>customer_id</th>\n",
       "            <th>join_date</th>\n",
       "        </tr>\n",
       "    </thead>\n",
       "    <tbody>\n",
       "        <tr>\n",
       "            <td>A</td>\n",
       "            <td>2021-01-07</td>\n",
       "        </tr>\n",
       "        <tr>\n",
       "            <td>B</td>\n",
       "            <td>2021-01-09</td>\n",
       "        </tr>\n",
       "    </tbody>\n",
       "</table>"
      ],
      "text/plain": [
       "+-------------+------------+\n",
       "| customer_id | join_date  |\n",
       "+-------------+------------+\n",
       "|      A      | 2021-01-07 |\n",
       "|      B      | 2021-01-09 |\n",
       "+-------------+------------+"
      ]
     },
     "execution_count": 9,
     "metadata": {},
     "output_type": "execute_result"
    }
   ],
   "source": [
    "%sql select * from members;"
   ]
  },
  {
   "cell_type": "markdown",
   "id": "4d2e6f3e",
   "metadata": {},
   "source": [
    "Crear e insertar datos en tabla `menu`:"
   ]
  },
  {
   "cell_type": "code",
   "execution_count": 13,
   "id": "eccae265",
   "metadata": {},
   "outputs": [
    {
     "data": {
      "text/html": [
       "<span style=\"None\">Running query in &#x27;sqlite:///dinner.db&#x27;</span>"
      ],
      "text/plain": [
       "Running query in 'sqlite:///dinner.db'"
      ]
     },
     "metadata": {},
     "output_type": "display_data"
    },
    {
     "data": {
      "text/html": [
       "<table>\n",
       "    <thead>\n",
       "        <tr>\n",
       "        </tr>\n",
       "    </thead>\n",
       "    <tbody>\n",
       "    </tbody>\n",
       "</table>"
      ],
      "text/plain": [
       "++\n",
       "||\n",
       "++\n",
       "++"
      ]
     },
     "execution_count": 13,
     "metadata": {},
     "output_type": "execute_result"
    }
   ],
   "source": [
    "%%sql\n",
    "DROP TABLE IF EXISTS menu;\n",
    "\n",
    "CREATE TABLE IF NOT EXISTS menu(\n",
    "    product_id INTEGER PRIMARY KEY NOT NULL UNIQUE,\n",
    "    product_name varchar(10),\n",
    "    price INTEGER NOT NULL\n",
    ");\n",
    "\n",
    "--valores para menu\n",
    "INSERT INTO menu\n",
    "  (\"product_id\", \"product_name\", \"price\")\n",
    "VALUES\n",
    "  ('1', 'sushi', '10'),\n",
    "  ('2', 'curry', '15'),\n",
    "  ('3', 'ramen', '12');"
   ]
  },
  {
   "cell_type": "code",
   "execution_count": 14,
   "id": "a99b12d8",
   "metadata": {},
   "outputs": [
    {
     "data": {
      "text/html": [
       "<span style=\"None\">Running query in &#x27;sqlite:///dinner.db&#x27;</span>"
      ],
      "text/plain": [
       "Running query in 'sqlite:///dinner.db'"
      ]
     },
     "metadata": {},
     "output_type": "display_data"
    },
    {
     "data": {
      "text/html": [
       "<table>\n",
       "    <thead>\n",
       "        <tr>\n",
       "            <th>product_id</th>\n",
       "            <th>product_name</th>\n",
       "            <th>price</th>\n",
       "        </tr>\n",
       "    </thead>\n",
       "    <tbody>\n",
       "        <tr>\n",
       "            <td>1</td>\n",
       "            <td>sushi</td>\n",
       "            <td>10</td>\n",
       "        </tr>\n",
       "        <tr>\n",
       "            <td>2</td>\n",
       "            <td>curry</td>\n",
       "            <td>15</td>\n",
       "        </tr>\n",
       "        <tr>\n",
       "            <td>3</td>\n",
       "            <td>ramen</td>\n",
       "            <td>12</td>\n",
       "        </tr>\n",
       "    </tbody>\n",
       "</table>"
      ],
      "text/plain": [
       "+------------+--------------+-------+\n",
       "| product_id | product_name | price |\n",
       "+------------+--------------+-------+\n",
       "|     1      |    sushi     |   10  |\n",
       "|     2      |    curry     |   15  |\n",
       "|     3      |    ramen     |   12  |\n",
       "+------------+--------------+-------+"
      ]
     },
     "execution_count": 14,
     "metadata": {},
     "output_type": "execute_result"
    }
   ],
   "source": [
    "%sql select * from menu;"
   ]
  },
  {
   "cell_type": "markdown",
   "id": "8cf47d3a",
   "metadata": {},
   "source": [
    "Crear e insertar datos en tablas `sales`:"
   ]
  },
  {
   "cell_type": "code",
   "execution_count": 15,
   "id": "4e6c13bd",
   "metadata": {},
   "outputs": [
    {
     "data": {
      "text/html": [
       "<span style=\"None\">Running query in &#x27;sqlite:///dinner.db&#x27;</span>"
      ],
      "text/plain": [
       "Running query in 'sqlite:///dinner.db'"
      ]
     },
     "metadata": {},
     "output_type": "display_data"
    },
    {
     "data": {
      "text/html": [
       "<table>\n",
       "    <thead>\n",
       "        <tr>\n",
       "        </tr>\n",
       "    </thead>\n",
       "    <tbody>\n",
       "    </tbody>\n",
       "</table>"
      ],
      "text/plain": [
       "++\n",
       "||\n",
       "++\n",
       "++"
      ]
     },
     "execution_count": 15,
     "metadata": {},
     "output_type": "execute_result"
    }
   ],
   "source": [
    "%%sql\n",
    "DROP TABLE IF EXISTS sales;\n",
    "\n",
    "CREATE TABLE IF NOT EXISTS sales(\n",
    "    customer_id varchar(1) NOT NULL,\n",
    "    order_date DATE NOT NULL,\n",
    "    product_id INTEGER NOT NULL,\n",
    "    FOREIGN KEY(customer_id) REFERENCES members(customer_id),\n",
    "    FOREIGN KEY(product_id) REFERENCES menu(product_id)\n",
    ");\n",
    "\n",
    "--insertar datos en sales\n",
    "\n",
    "INSERT INTO sales\n",
    "  (\"customer_id\", \"order_date\", \"product_id\")\n",
    "VALUES\n",
    "  ('A', '2021-01-01', '1'),\n",
    "  ('A', '2021-01-01', '2'),\n",
    "  ('A', '2021-01-07', '2'),\n",
    "  ('A', '2021-01-10', '3'),\n",
    "  ('A', '2021-01-11', '3'),\n",
    "  ('A', '2021-01-11', '3'),\n",
    "  ('B', '2021-01-01', '2'),\n",
    "  ('B', '2021-01-02', '2'),\n",
    "  ('B', '2021-01-04', '1'),\n",
    "  ('B', '2021-01-11', '1'),\n",
    "  ('B', '2021-01-16', '3'),\n",
    "  ('B', '2021-02-01', '3'),\n",
    "  ('C', '2021-01-01', '3'),\n",
    "  ('C', '2021-01-01', '3'),\n",
    "  ('C', '2021-01-07', '3');"
   ]
  },
  {
   "cell_type": "code",
   "execution_count": 16,
   "id": "7523dcb6",
   "metadata": {},
   "outputs": [
    {
     "data": {
      "text/html": [
       "<span style=\"None\">Running query in &#x27;sqlite:///dinner.db&#x27;</span>"
      ],
      "text/plain": [
       "Running query in 'sqlite:///dinner.db'"
      ]
     },
     "metadata": {},
     "output_type": "display_data"
    },
    {
     "data": {
      "text/html": [
       "<table>\n",
       "    <thead>\n",
       "        <tr>\n",
       "            <th>customer_id</th>\n",
       "            <th>order_date</th>\n",
       "            <th>product_id</th>\n",
       "        </tr>\n",
       "    </thead>\n",
       "    <tbody>\n",
       "        <tr>\n",
       "            <td>A</td>\n",
       "            <td>2021-01-01</td>\n",
       "            <td>1</td>\n",
       "        </tr>\n",
       "        <tr>\n",
       "            <td>A</td>\n",
       "            <td>2021-01-01</td>\n",
       "            <td>2</td>\n",
       "        </tr>\n",
       "        <tr>\n",
       "            <td>A</td>\n",
       "            <td>2021-01-07</td>\n",
       "            <td>2</td>\n",
       "        </tr>\n",
       "        <tr>\n",
       "            <td>A</td>\n",
       "            <td>2021-01-10</td>\n",
       "            <td>3</td>\n",
       "        </tr>\n",
       "        <tr>\n",
       "            <td>A</td>\n",
       "            <td>2021-01-11</td>\n",
       "            <td>3</td>\n",
       "        </tr>\n",
       "        <tr>\n",
       "            <td>A</td>\n",
       "            <td>2021-01-11</td>\n",
       "            <td>3</td>\n",
       "        </tr>\n",
       "        <tr>\n",
       "            <td>B</td>\n",
       "            <td>2021-01-01</td>\n",
       "            <td>2</td>\n",
       "        </tr>\n",
       "        <tr>\n",
       "            <td>B</td>\n",
       "            <td>2021-01-02</td>\n",
       "            <td>2</td>\n",
       "        </tr>\n",
       "        <tr>\n",
       "            <td>B</td>\n",
       "            <td>2021-01-04</td>\n",
       "            <td>1</td>\n",
       "        </tr>\n",
       "        <tr>\n",
       "            <td>B</td>\n",
       "            <td>2021-01-11</td>\n",
       "            <td>1</td>\n",
       "        </tr>\n",
       "        <tr>\n",
       "            <td>B</td>\n",
       "            <td>2021-01-16</td>\n",
       "            <td>3</td>\n",
       "        </tr>\n",
       "        <tr>\n",
       "            <td>B</td>\n",
       "            <td>2021-02-01</td>\n",
       "            <td>3</td>\n",
       "        </tr>\n",
       "        <tr>\n",
       "            <td>C</td>\n",
       "            <td>2021-01-01</td>\n",
       "            <td>3</td>\n",
       "        </tr>\n",
       "        <tr>\n",
       "            <td>C</td>\n",
       "            <td>2021-01-01</td>\n",
       "            <td>3</td>\n",
       "        </tr>\n",
       "        <tr>\n",
       "            <td>C</td>\n",
       "            <td>2021-01-07</td>\n",
       "            <td>3</td>\n",
       "        </tr>\n",
       "    </tbody>\n",
       "</table>"
      ],
      "text/plain": [
       "+-------------+------------+------------+\n",
       "| customer_id | order_date | product_id |\n",
       "+-------------+------------+------------+\n",
       "|      A      | 2021-01-01 |     1      |\n",
       "|      A      | 2021-01-01 |     2      |\n",
       "|      A      | 2021-01-07 |     2      |\n",
       "|      A      | 2021-01-10 |     3      |\n",
       "|      A      | 2021-01-11 |     3      |\n",
       "|      A      | 2021-01-11 |     3      |\n",
       "|      B      | 2021-01-01 |     2      |\n",
       "|      B      | 2021-01-02 |     2      |\n",
       "|      B      | 2021-01-04 |     1      |\n",
       "|      B      | 2021-01-11 |     1      |\n",
       "|      B      | 2021-01-16 |     3      |\n",
       "|      B      | 2021-02-01 |     3      |\n",
       "|      C      | 2021-01-01 |     3      |\n",
       "|      C      | 2021-01-01 |     3      |\n",
       "|      C      | 2021-01-07 |     3      |\n",
       "+-------------+------------+------------+"
      ]
     },
     "execution_count": 16,
     "metadata": {},
     "output_type": "execute_result"
    }
   ],
   "source": [
    "%sql select * from sales;"
   ]
  },
  {
   "cell_type": "markdown",
   "id": "14434042",
   "metadata": {},
   "source": [
    "**1. ¿Cuál es la cantidad total que gastó cada cliente?**"
   ]
  },
  {
   "cell_type": "code",
   "execution_count": 19,
   "id": "70409624",
   "metadata": {},
   "outputs": [
    {
     "data": {
      "text/html": [
       "<span style=\"None\">Running query in &#x27;sqlite:///dinner.db&#x27;</span>"
      ],
      "text/plain": [
       "Running query in 'sqlite:///dinner.db'"
      ]
     },
     "metadata": {},
     "output_type": "display_data"
    },
    {
     "data": {
      "text/html": [
       "<table>\n",
       "    <thead>\n",
       "        <tr>\n",
       "            <th>Customer</th>\n",
       "            <th>Total_com</th>\n",
       "            <th>Total_amount</th>\n",
       "        </tr>\n",
       "    </thead>\n",
       "    <tbody>\n",
       "        <tr>\n",
       "            <td>A</td>\n",
       "            <td>6</td>\n",
       "            <td>76</td>\n",
       "        </tr>\n",
       "        <tr>\n",
       "            <td>B</td>\n",
       "            <td>6</td>\n",
       "            <td>74</td>\n",
       "        </tr>\n",
       "        <tr>\n",
       "            <td>C</td>\n",
       "            <td>3</td>\n",
       "            <td>36</td>\n",
       "        </tr>\n",
       "    </tbody>\n",
       "</table>"
      ],
      "text/plain": [
       "+----------+-----------+--------------+\n",
       "| Customer | Total_com | Total_amount |\n",
       "+----------+-----------+--------------+\n",
       "|    A     |     6     |      76      |\n",
       "|    B     |     6     |      74      |\n",
       "|    C     |     3     |      36      |\n",
       "+----------+-----------+--------------+"
      ]
     },
     "execution_count": 19,
     "metadata": {},
     "output_type": "execute_result"
    }
   ],
   "source": [
    "%%sql\n",
    "SELECT\n",
    "    a.customer_id as Customer,\n",
    "    count(a.customer_id) as Total_com,\n",
    "    sum(b.price) as Total_amount\n",
    "FROM\n",
    "    sales a\n",
    "LEFT JOIN\n",
    "    menu b On (a.product_id = b.product_id)\n",
    "GROUP BY a.customer_id\n",
    "ORDER BY Total_amount DESC;"
   ]
  },
  {
   "cell_type": "markdown",
   "id": "bbae04b7",
   "metadata": {},
   "source": [
    "**2. ¿Cuántos días ha visitado cada cliente el restaurante?**"
   ]
  },
  {
   "cell_type": "code",
   "execution_count": 20,
   "id": "8385f485",
   "metadata": {},
   "outputs": [
    {
     "data": {
      "text/html": [
       "<span style=\"None\">Running query in &#x27;sqlite:///dinner.db&#x27;</span>"
      ],
      "text/plain": [
       "Running query in 'sqlite:///dinner.db'"
      ]
     },
     "metadata": {},
     "output_type": "display_data"
    },
    {
     "data": {
      "text/html": [
       "<table>\n",
       "    <thead>\n",
       "        <tr>\n",
       "            <th>Customer</th>\n",
       "            <th>Total_visit</th>\n",
       "        </tr>\n",
       "    </thead>\n",
       "    <tbody>\n",
       "        <tr>\n",
       "            <td>B</td>\n",
       "            <td>6</td>\n",
       "        </tr>\n",
       "        <tr>\n",
       "            <td>A</td>\n",
       "            <td>4</td>\n",
       "        </tr>\n",
       "        <tr>\n",
       "            <td>C</td>\n",
       "            <td>2</td>\n",
       "        </tr>\n",
       "    </tbody>\n",
       "</table>"
      ],
      "text/plain": [
       "+----------+-------------+\n",
       "| Customer | Total_visit |\n",
       "+----------+-------------+\n",
       "|    B     |      6      |\n",
       "|    A     |      4      |\n",
       "|    C     |      2      |\n",
       "+----------+-------------+"
      ]
     },
     "execution_count": 20,
     "metadata": {},
     "output_type": "execute_result"
    }
   ],
   "source": [
    "%%sql\n",
    "SELECT\n",
    "    customer_id as Customer,\n",
    "    COUNT(DISTINCT(order_date)) as Total_visit\n",
    "FROM\n",
    "    sales\n",
    "GROUP BY customer_id\n",
    "ORDER BY Total_visit DESC;"
   ]
  },
  {
   "cell_type": "markdown",
   "id": "9991748a",
   "metadata": {},
   "source": [
    "Se toma en cuenta `DISTINCT` para evitar duplicar el recuento de visitas por días."
   ]
  },
  {
   "cell_type": "markdown",
   "id": "6f2fa356",
   "metadata": {},
   "source": [
    "**3. ¿Cuál fue el primer artículo comprado por cada cliente?**"
   ]
  },
  {
   "cell_type": "code",
   "execution_count": 60,
   "id": "48a9477e",
   "metadata": {},
   "outputs": [
    {
     "data": {
      "text/html": [
       "<span style=\"None\">Running query in &#x27;sqlite:///dinner.db&#x27;</span>"
      ],
      "text/plain": [
       "Running query in 'sqlite:///dinner.db'"
      ]
     },
     "metadata": {},
     "output_type": "display_data"
    },
    {
     "data": {
      "text/html": [
       "<table>\n",
       "    <thead>\n",
       "        <tr>\n",
       "            <th>customer_id</th>\n",
       "            <th>order_date</th>\n",
       "            <th>product_name</th>\n",
       "        </tr>\n",
       "    </thead>\n",
       "    <tbody>\n",
       "        <tr>\n",
       "            <td>A</td>\n",
       "            <td>2021-01-01</td>\n",
       "            <td>curry</td>\n",
       "        </tr>\n",
       "        <tr>\n",
       "            <td>A</td>\n",
       "            <td>2021-01-01</td>\n",
       "            <td>sushi</td>\n",
       "        </tr>\n",
       "        <tr>\n",
       "            <td>B</td>\n",
       "            <td>2021-01-01</td>\n",
       "            <td>curry</td>\n",
       "        </tr>\n",
       "        <tr>\n",
       "            <td>C</td>\n",
       "            <td>2021-01-01</td>\n",
       "            <td>ramen</td>\n",
       "        </tr>\n",
       "    </tbody>\n",
       "</table>"
      ],
      "text/plain": [
       "+-------------+------------+--------------+\n",
       "| customer_id | order_date | product_name |\n",
       "+-------------+------------+--------------+\n",
       "|      A      | 2021-01-01 |    curry     |\n",
       "|      A      | 2021-01-01 |    sushi     |\n",
       "|      B      | 2021-01-01 |    curry     |\n",
       "|      C      | 2021-01-01 |    ramen     |\n",
       "+-------------+------------+--------------+"
      ]
     },
     "execution_count": 60,
     "metadata": {},
     "output_type": "execute_result"
    }
   ],
   "source": [
    "%%sql\n",
    "WITH f_buy as(\n",
    "    SELECT\n",
    "        a.customer_id,\n",
    "        a.order_date,\n",
    "        b.product_name,\n",
    "        dense_rank() over(partition by a.customer_id order by a.order_date) as rank\n",
    "    FROM\n",
    "        sales a\n",
    "    LEFT JOIN\n",
    "        menu b on(a.product_id = b.product_id))\n",
    "SELECT\n",
    "    customer_id,\n",
    "    order_date,\n",
    "    product_name\n",
    "FROM\n",
    "    f_buy\n",
    "WHERE rank=1\n",
    "GROUP BY customer_id, product_name;"
   ]
  },
  {
   "cell_type": "markdown",
   "id": "c9cda9e1",
   "metadata": {},
   "source": [
    "**Explicación**:\n",
    "\n",
    "`dense_rank()`: la función no toma argumentos, pero se necesitan los paréntesis vacíos.\n",
    "\n",
    "`OVER`: las cláusulas de ventana para la función `dense_rank`.\n",
    "\n",
    "`partition by`: (opcional) una o más exprsiones que definen la ventan.\n",
    "\n",
    "`order by`: la expresión en que se bansan los valores de clasificación. Si no\n",
    "especifica `partition by`, `òrder by` utiliza toda la tabla. Si se omite `order by`,\n",
    "el valor de retorno es `1` para todas las filas.\n",
    "\n",
    "`dense_rank` asigna de `1` hasta `n` en base al orden de `order_date` y restablece el\n",
    "conteo en `1` por cada partición de `customer_id`."
   ]
  },
  {
   "cell_type": "markdown",
   "id": "96499830",
   "metadata": {},
   "source": [
    ">Parece se puede aplicar `row_number()`, pero podría no determinar la secuencia exacta al no tener una marca de tiempo."
   ]
  },
  {
   "cell_type": "markdown",
   "id": "645fab26",
   "metadata": {},
   "source": [
    "**4. ¿Cuál es el artículo más comprado en el menú y cuántas veces fue comprado por todos cada cliente?**"
   ]
  },
  {
   "cell_type": "code",
   "execution_count": 44,
   "id": "7ea0638d",
   "metadata": {},
   "outputs": [
    {
     "data": {
      "text/html": [
       "<span style=\"None\">Running query in &#x27;sqlite:///dinner.db&#x27;</span>"
      ],
      "text/plain": [
       "Running query in 'sqlite:///dinner.db'"
      ]
     },
     "metadata": {},
     "output_type": "display_data"
    },
    {
     "data": {
      "text/html": [
       "<table>\n",
       "    <thead>\n",
       "        <tr>\n",
       "            <th>Pname</th>\n",
       "            <th>More_sale</th>\n",
       "        </tr>\n",
       "    </thead>\n",
       "    <tbody>\n",
       "        <tr>\n",
       "            <td>ramen</td>\n",
       "            <td>8</td>\n",
       "        </tr>\n",
       "        <tr>\n",
       "            <td>curry</td>\n",
       "            <td>4</td>\n",
       "        </tr>\n",
       "        <tr>\n",
       "            <td>sushi</td>\n",
       "            <td>3</td>\n",
       "        </tr>\n",
       "    </tbody>\n",
       "</table>"
      ],
      "text/plain": [
       "+-------+-----------+\n",
       "| Pname | More_sale |\n",
       "+-------+-----------+\n",
       "| ramen |     8     |\n",
       "| curry |     4     |\n",
       "| sushi |     3     |\n",
       "+-------+-----------+"
      ]
     },
     "execution_count": 44,
     "metadata": {},
     "output_type": "execute_result"
    }
   ],
   "source": [
    "%%sql\n",
    "SELECT\n",
    "    b.product_name as Pname,\n",
    "    count(b.product_id) as More_sale\n",
    "FROM\n",
    "    sales a\n",
    "LEFT JOIN\n",
    "    menu b  ON(a.product_id = b.product_id)\n",
    "GROUP BY a.product_id\n",
    "ORDER BY More_sale DESC;"
   ]
  },
  {
   "cell_type": "markdown",
   "id": "05fd89c7",
   "metadata": {},
   "source": [
    "Muestra el nombre de producto junto a la cantidad de veces compradas."
   ]
  },
  {
   "cell_type": "markdown",
   "id": "1493f4a1",
   "metadata": {},
   "source": [
    "**5. ¿Qué artículo fue el más popular por cada cliente?**"
   ]
  },
  {
   "cell_type": "code",
   "execution_count": 58,
   "id": "6c8bfdb5",
   "metadata": {},
   "outputs": [
    {
     "data": {
      "text/html": [
       "<span style=\"None\">Running query in &#x27;sqlite:///dinner.db&#x27;</span>"
      ],
      "text/plain": [
       "Running query in 'sqlite:///dinner.db'"
      ]
     },
     "metadata": {},
     "output_type": "display_data"
    },
    {
     "data": {
      "text/html": [
       "<table>\n",
       "    <thead>\n",
       "        <tr>\n",
       "            <th>Customer</th>\n",
       "            <th>Product name</th>\n",
       "            <th>Popular foo</th>\n",
       "        </tr>\n",
       "    </thead>\n",
       "    <tbody>\n",
       "        <tr>\n",
       "            <td>A</td>\n",
       "            <td>ramen</td>\n",
       "            <td>3</td>\n",
       "        </tr>\n",
       "        <tr>\n",
       "            <td>B</td>\n",
       "            <td>sushi</td>\n",
       "            <td>2</td>\n",
       "        </tr>\n",
       "        <tr>\n",
       "            <td>B</td>\n",
       "            <td>ramen</td>\n",
       "            <td>2</td>\n",
       "        </tr>\n",
       "        <tr>\n",
       "            <td>B</td>\n",
       "            <td>curry</td>\n",
       "            <td>2</td>\n",
       "        </tr>\n",
       "        <tr>\n",
       "            <td>C</td>\n",
       "            <td>ramen</td>\n",
       "            <td>3</td>\n",
       "        </tr>\n",
       "    </tbody>\n",
       "</table>"
      ],
      "text/plain": [
       "+----------+--------------+-------------+\n",
       "| Customer | Product name | Popular foo |\n",
       "+----------+--------------+-------------+\n",
       "|    A     |    ramen     |      3      |\n",
       "|    B     |    sushi     |      2      |\n",
       "|    B     |    ramen     |      2      |\n",
       "|    B     |    curry     |      2      |\n",
       "|    C     |    ramen     |      3      |\n",
       "+----------+--------------+-------------+"
      ]
     },
     "execution_count": 58,
     "metadata": {},
     "output_type": "execute_result"
    }
   ],
   "source": [
    "%%sql\n",
    "WITH popitems as(\n",
    "    SELECT\n",
    "        a.customer_id,\n",
    "        b.product_name,\n",
    "        count(b.product_name) as or_count,\n",
    "        dense_rank() over(partition by a.customer_id\n",
    "                          order by count(b.product_name) DESC) as rank\n",
    "    FROM\n",
    "        sales a\n",
    "    LEFT JOIN\n",
    "        menu b ON(a.product_id = b.product_id)\n",
    "    GROUP BY a.customer_id, b.product_name\n",
    ")\n",
    "SELECT\n",
    "    customer_id as Customer,\n",
    "    product_name as \"Product name\",\n",
    "    or_count as \"Popular foo\"\n",
    "FROM\n",
    "    popitems\n",
    "WHERE rank=1;"
   ]
  },
  {
   "cell_type": "markdown",
   "id": "de6fbce0",
   "metadata": {},
   "source": [
    "**5. Primer artículo comprado por el clientes depués de ser miembro.**"
   ]
  },
  {
   "cell_type": "code",
   "execution_count": 96,
   "id": "31c53edd",
   "metadata": {},
   "outputs": [
    {
     "data": {
      "text/html": [
       "<span style=\"None\">Running query in &#x27;sqlite:///dinner.db&#x27;</span>"
      ],
      "text/plain": [
       "Running query in 'sqlite:///dinner.db'"
      ]
     },
     "metadata": {},
     "output_type": "display_data"
    },
    {
     "data": {
      "text/html": [
       "<table>\n",
       "    <thead>\n",
       "        <tr>\n",
       "            <th>Customer</th>\n",
       "            <th>Member from</th>\n",
       "            <th>Product name</th>\n",
       "            <th>Date Purchased</th>\n",
       "        </tr>\n",
       "    </thead>\n",
       "    <tbody>\n",
       "        <tr>\n",
       "            <td>A</td>\n",
       "            <td>2021-01-07</td>\n",
       "            <td>ramen</td>\n",
       "            <td>2021-01-10</td>\n",
       "        </tr>\n",
       "        <tr>\n",
       "            <td>B</td>\n",
       "            <td>2021-01-09</td>\n",
       "            <td>sushi</td>\n",
       "            <td>2021-01-11</td>\n",
       "        </tr>\n",
       "    </tbody>\n",
       "</table>"
      ],
      "text/plain": [
       "+----------+-------------+--------------+----------------+\n",
       "| Customer | Member from | Product name | Date Purchased |\n",
       "+----------+-------------+--------------+----------------+\n",
       "|    A     |  2021-01-07 |    ramen     |   2021-01-10   |\n",
       "|    B     |  2021-01-09 |    sushi     |   2021-01-11   |\n",
       "+----------+-------------+--------------+----------------+"
      ]
     },
     "execution_count": 96,
     "metadata": {},
     "output_type": "execute_result"
    }
   ],
   "source": [
    "%%sql\n",
    "WITH after_member as(\n",
    "    SELECT\n",
    "        a.customer_id,\n",
    "        b.product_name,\n",
    "        c.join_date,\n",
    "        a.order_date,\n",
    "        row_number() over(partition by a.customer_id order by a.order_date) as row_number\n",
    "    FROM \n",
    "        sales a\n",
    "    LEFT JOIN\n",
    "        menu b ON(a.product_id = b.product_id)\n",
    "    LEFT JOIN\n",
    "        members c ON(a.customer_id = c.customer_id)\n",
    "    WHERE a.order_date > c.join_date\n",
    ")\n",
    "SELECT\n",
    "    customer_id as Customer,\n",
    "    join_date as \"Member from\",\n",
    "    product_name as \"Product name\",\n",
    "    order_date as \"Date Purchased\"\n",
    "FROM\n",
    "    after_member\n",
    "WHERE row_number=1;"
   ]
  },
  {
   "cell_type": "markdown",
   "id": "7d602ee2",
   "metadata": {},
   "source": [
    "**7. ¿Qué artículo compró el cliente antes de ser miembro?**"
   ]
  },
  {
   "cell_type": "code",
   "execution_count": 94,
   "id": "cdac8af5",
   "metadata": {},
   "outputs": [
    {
     "data": {
      "text/html": [
       "<span style=\"None\">Running query in &#x27;sqlite:///dinner.db&#x27;</span>"
      ],
      "text/plain": [
       "Running query in 'sqlite:///dinner.db'"
      ]
     },
     "metadata": {},
     "output_type": "display_data"
    },
    {
     "data": {
      "text/html": [
       "<table>\n",
       "    <thead>\n",
       "        <tr>\n",
       "            <th>Customer</th>\n",
       "            <th>Member from</th>\n",
       "            <th>Product name</th>\n",
       "            <th>Date Purchased</th>\n",
       "        </tr>\n",
       "    </thead>\n",
       "    <tbody>\n",
       "        <tr>\n",
       "            <td>A</td>\n",
       "            <td>2021-01-07</td>\n",
       "            <td>sushi</td>\n",
       "            <td>2021-01-01</td>\n",
       "        </tr>\n",
       "        <tr>\n",
       "            <td>B</td>\n",
       "            <td>2021-01-09</td>\n",
       "            <td>sushi</td>\n",
       "            <td>2021-01-04</td>\n",
       "        </tr>\n",
       "    </tbody>\n",
       "</table>"
      ],
      "text/plain": [
       "+----------+-------------+--------------+----------------+\n",
       "| Customer | Member from | Product name | Date Purchased |\n",
       "+----------+-------------+--------------+----------------+\n",
       "|    A     |  2021-01-07 |    sushi     |   2021-01-01   |\n",
       "|    B     |  2021-01-09 |    sushi     |   2021-01-04   |\n",
       "+----------+-------------+--------------+----------------+"
      ]
     },
     "execution_count": 94,
     "metadata": {},
     "output_type": "execute_result"
    }
   ],
   "source": [
    "%%sql\n",
    "WITH before_member as(\n",
    "    SELECT\n",
    "        a.customer_id,\n",
    "        b.product_name,\n",
    "        c.join_date,\n",
    "        a.order_date,\n",
    "        row_number() over(partition by a.customer_id order by a.order_date DESC) as rank\n",
    "    FROM\n",
    "        sales a\n",
    "    LEFT JOIN\n",
    "        menu b ON(a.product_id = b.product_id)\n",
    "    LEFT JOIN\n",
    "        members c ON(a.customer_id = c.customer_id)\n",
    "    WHERE a.order_date < c.join_date\n",
    ")\n",
    "SELECT\n",
    "    customer_id as Customer,\n",
    "    join_date as \"Member from\",\n",
    "    product_name as \"Product name\",\n",
    "    order_date as \"Date Purchased\"\n",
    "FROM\n",
    "    before_member\n",
    "WHERE rank=1;"
   ]
  },
  {
   "cell_type": "markdown",
   "id": "eff6bf01",
   "metadata": {},
   "source": [
    "`row_number()` ordena `order_date` de mayor a menor para asignarle `1` antes de la fecha\n",
    "de membresía, además de enumerar de manera consecutiva sin importar el `order by`,\n",
    "por lo que no repite la asignación de `1`."
   ]
  },
  {
   "cell_type": "markdown",
   "id": "2ddc7d83",
   "metadata": {},
   "source": [
    "**8. Total de artículos y cantidad gastada por el cliente antes de ser miembo.**"
   ]
  },
  {
   "cell_type": "code",
   "execution_count": 99,
   "id": "cc4b320a",
   "metadata": {},
   "outputs": [
    {
     "data": {
      "text/html": [
       "<span style=\"None\">Running query in &#x27;sqlite:///dinner.db&#x27;</span>"
      ],
      "text/plain": [
       "Running query in 'sqlite:///dinner.db'"
      ]
     },
     "metadata": {},
     "output_type": "display_data"
    },
    {
     "data": {
      "text/html": [
       "<table>\n",
       "    <thead>\n",
       "        <tr>\n",
       "            <th>Customer</th>\n",
       "            <th>Total articles</th>\n",
       "            <th>Total amount</th>\n",
       "        </tr>\n",
       "    </thead>\n",
       "    <tbody>\n",
       "        <tr>\n",
       "            <td>A</td>\n",
       "            <td>2</td>\n",
       "            <td>25</td>\n",
       "        </tr>\n",
       "        <tr>\n",
       "            <td>B</td>\n",
       "            <td>3</td>\n",
       "            <td>40</td>\n",
       "        </tr>\n",
       "    </tbody>\n",
       "</table>"
      ],
      "text/plain": [
       "+----------+----------------+--------------+\n",
       "| Customer | Total articles | Total amount |\n",
       "+----------+----------------+--------------+\n",
       "|    A     |       2        |      25      |\n",
       "|    B     |       3        |      40      |\n",
       "+----------+----------------+--------------+"
      ]
     },
     "execution_count": 99,
     "metadata": {},
     "output_type": "execute_result"
    }
   ],
   "source": [
    "%%sql\n",
    "SELECT\n",
    "    a.customer_id as Customer,\n",
    "    count(a.product_id) as \"Total articles\",\n",
    "    sum(b.price) as \"Total amount\"\n",
    "FROM\n",
    "    sales a\n",
    "LEFT JOIN\n",
    "    menu b ON(a.product_id = b.product_id)\n",
    "LEFT JOIN\n",
    "    members c ON(a.customer_id = c.customer_id)\n",
    "WHERE a.order_date < c.join_date\n",
    "GROUP BY a.customer_id;"
   ]
  },
  {
   "cell_type": "code",
   "execution_count": null,
   "id": "96aa869f",
   "metadata": {},
   "outputs": [],
   "source": []
  }
 ],
 "metadata": {
  "kernelspec": {
   "display_name": "venv",
   "language": "python",
   "name": "venv"
  },
  "language_info": {
   "codemirror_mode": {
    "name": "ipython",
    "version": 3
   },
   "file_extension": ".py",
   "mimetype": "text/x-python",
   "name": "python",
   "nbconvert_exporter": "python",
   "pygments_lexer": "ipython3",
   "version": "3.9.2"
  }
 },
 "nbformat": 4,
 "nbformat_minor": 5
}
